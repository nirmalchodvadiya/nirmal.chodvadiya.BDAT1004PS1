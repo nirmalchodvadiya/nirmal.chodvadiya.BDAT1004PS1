{
 "cells": [
  {
   "cell_type": "markdown",
   "id": "622fd51f",
   "metadata": {},
   "source": [
    "# Question 1: What datatype is each one of the following?\n",
    "\n"
   ]
  },
  {
   "cell_type": "markdown",
   "id": "858c355f",
   "metadata": {},
   "source": [
    "1. 5: int\n",
    "2. 5.0: double\n",
    "3. 5>1: boolean\n",
    "4. '5': char\n",
    "5. 5*2: int\n",
    "6. '5'*2: int\n",
    "7. '5' + '2': int\n",
    "8. 5/2: int\n",
    "9. 5%2: int\n",
    "10. {5,2,1}: string\n",
    "11. 5==3: boolean\n",
    "12. pi: double"
   ]
  },
  {
   "cell_type": "markdown",
   "id": "451953ed",
   "metadata": {},
   "source": [
    "# Question 2: Write c# expressions to answer these questions.\n",
    "\n",
    "### a) How many letters are there in 'Supercalifragilisticexpialidocious'?"
   ]
  },
  {
   "cell_type": "code",
   "execution_count": 6,
   "id": "dbccc1eb",
   "metadata": {},
   "outputs": [
    {
     "name": "stdout",
     "output_type": "stream",
     "text": [
      "Total number of letters in the given string: 34\r\n"
     ]
    }
   ],
   "source": [
    "string givenString = \"Supercalifragilisticexpialidocious\";\n",
    "Console.WriteLine(\"Total number of letters in the given string: \" + givenString.ToCharArray().Count());\n"
   ]
  },
  {
   "cell_type": "markdown",
   "id": "cef9c955",
   "metadata": {},
   "source": [
    "###  b) Does \"Supercalifragilisticexpialidocious\" contain 'ice' as a substring?"
   ]
  },
  {
   "cell_type": "code",
   "execution_count": 3,
   "id": "f2ab925c",
   "metadata": {},
   "outputs": [
    {
     "name": "stdout",
     "output_type": "stream",
     "text": [
      "The given string contains 'ice'.\r\n"
     ]
    }
   ],
   "source": [
    "string checkString = \"Supercalifragilisticexpialidocious\";\n",
    "if (checkString.Contains(\"ice\")){\n",
    "    Console.WriteLine(\"The given string contains 'ice'.\");\n",
    "}else{\n",
    "    Console.WriteLine(\"The given string does not contain 'ice'.\");\n",
    "}"
   ]
  },
  {
   "cell_type": "markdown",
   "id": "ad177576",
   "metadata": {},
   "source": [
    "### c) Which of the given strings is the longest?"
   ]
  },
  {
   "cell_type": "code",
   "execution_count": 7,
   "id": "93a51424",
   "metadata": {},
   "outputs": [
    {
     "name": "stdout",
     "output_type": "stream",
     "text": [
      "Bababadalgharaghtakamminarronnkonn is the largest.\r\n"
     ]
    }
   ],
   "source": [
    "string psuedoOne = \"Supercalifragilisticexpialidocious\";\n",
    "string psuedoTwo = \"Honorificabilitudinitatibus\";\n",
    "string psuedoThree = \"Bababadalgharaghtakamminarronnkonn\";\n",
    "\n",
    "if (psuedoOne.ToCharArray().Count()>psuedoTwo.ToCharArray().Count()){\n",
    "    if (psuedoOne.ToCharArray().Count()>psuedoThree.ToCharArray().Count())\n",
    "        Console.WriteLine(psuedoOne + \" is the largest.\");\n",
    "    else{\n",
    "        Console.WriteLine(psuedoThree + \" is the largest.\");\n",
    "    }\n",
    "}\n",
    "else if (psuedoOne.ToCharArray().Count()>psuedoThree.ToCharArray().Count()){\n",
    "    Console.WriteLine(psuedoOne + \" is the largest.\");\n",
    "}else{\n",
    "    Console.WriteLine(psuedoThree + \" is the largest.\");\n",
    "}"
   ]
  },
  {
   "cell_type": "markdown",
   "id": "3df0ebc1",
   "metadata": {},
   "source": [
    "### d) Which composer comes first in the given dictonary?"
   ]
  },
  {
   "cell_type": "code",
   "execution_count": 8,
   "id": "e694fb84",
   "metadata": {},
   "outputs": [
    {
     "name": "stdout",
     "output_type": "stream",
     "text": [
      "First Composer in the given Dictionary is: Berlioz\n",
      "Last Composer in the given dictionary is: Bernstein\n"
     ]
    }
   ],
   "source": [
    "Dictionary<Int16, string> composerList = new Dictionary<Int16, string>();\n",
    "composerList.Add(1,\"Berlioz\");\n",
    "composerList.Add(2,\"Borodin\");\n",
    "composerList.Add(3,\"Brian\");\n",
    "composerList.Add(4,\"Bartok\");\n",
    "composerList.Add(5,\"Bellini\");\n",
    "composerList.Add(6,\"Buxtehude\");\n",
    "composerList.Add(7,\"Bernstein\");\n",
    "\n",
    "Console.WriteLine(\"First Composer in the given Dictionary is: \"+composerList[1]);\n",
    "Console.WriteLine(\"Last Composer in the given dictionary is: \"+composerList.Values.Last());"
   ]
  },
  {
   "cell_type": "markdown",
   "id": "57d787ba",
   "metadata": {},
   "source": [
    "# Question 3"
   ]
  },
  {
   "cell_type": "code",
   "execution_count": 9,
   "id": "ef23553f",
   "metadata": {},
   "outputs": [
    {
     "name": "stdout",
     "output_type": "stream",
     "text": [
      "1.7320508075688772\r\n"
     ]
    }
   ],
   "source": [
    "public double triangleArea(int a, int b, int c){\n",
    "    double s = (a+b+c)/2;\n",
    "    double area = Math.Sqrt(s*(s-a)*(s-b)*(s-c));\n",
    "    return area;\n",
    "}\n",
    "Console.WriteLine(triangleArea(2,2,2));"
   ]
  },
  {
   "cell_type": "markdown",
   "id": "5aaeccd4",
   "metadata": {},
   "source": [
    "# Question 4"
   ]
  },
  {
   "cell_type": "code",
   "execution_count": 10,
   "id": "d47520e3",
   "metadata": {},
   "outputs": [
    {
     "name": "stdout",
     "output_type": "stream",
     "text": [
      "Even elements in the given array are: \n",
      "42 \n",
      "56 \n",
      "32 \n",
      "Odd elements in the given array are: \n",
      "25 \n",
      "47 \n"
     ]
    }
   ],
   "source": [
    "int[] arrayList = {25,47,42,56,32};\n",
    "int[] evenArray = new int[5];\n",
    "int[] oddArray = new int[5];\n",
    "\n",
    "int i,x=0,y=0;\n",
    "for(i=0;i<arrayList.Length;i++){\n",
    "    if(arrayList[i] % 2 == 0){\n",
    "        evenArray[x] = arrayList[i];\n",
    "        x++;\n",
    "    }else{\n",
    "        oddArray[y] = arrayList[i];\n",
    "        y++;\n",
    "    }\n",
    "}\n",
    "Console.WriteLine(\"Even elements in the given array are: \");\n",
    "for(i=0;i<evenArray.Length;i++){\n",
    "    if(evenArray[i]>0){\n",
    "        Console.WriteLine(evenArray[i] + \" \");\n",
    "    }\n",
    "}\n",
    "Console.WriteLine(\"Odd elements in the given array are: \");\n",
    "for(i=0;i<oddArray.Length;i++){\n",
    "    if(oddArray[i]>0){\n",
    "        Console.WriteLine(oddArray[i] + \" \");\n",
    "    }\n",
    "}"
   ]
  },
  {
   "cell_type": "markdown",
   "id": "ad89674c",
   "metadata": {},
   "source": [
    "# Question 5\n",
    "### a) Write a function inside(x,y,x1,y1,x2,y2) that returns True or False depending on whether the point (x,y) lies in the rectangle with lower left corner (x1,y1) and upper right corner (x2,y2)."
   ]
  },
  {
   "cell_type": "code",
   "execution_count": 11,
   "id": "f9d0f8df",
   "metadata": {},
   "outputs": [
    {
     "name": "stdout",
     "output_type": "stream",
     "text": [
      "True\n",
      "False\n"
     ]
    }
   ],
   "source": [
    "public bool inside(int x, int y, int x1, int y1, int x2, int y2){\n",
    "    if(x>x1 && y>y1 && x<x2 && y<y2){\n",
    "        return true;\n",
    "    }else{\n",
    "        return false;\n",
    "    }\n",
    "}\n",
    "Console.WriteLine(inside(1,1,0,0,2,3));\n",
    "Console.WriteLine(inside(-1,-1,0,0,2,3));"
   ]
  },
  {
   "cell_type": "markdown",
   "id": "c1ec4fd0",
   "metadata": {},
   "source": [
    "# Question 6"
   ]
  },
  {
   "cell_type": "code",
   "execution_count": 5,
   "id": "a9d930b1",
   "metadata": {},
   "outputs": [
    {
     "data": {
      "text/plain": [
       "'appyhay'"
      ]
     },
     "execution_count": 5,
     "metadata": {},
     "output_type": "execute_result"
    }
   ],
   "source": [
    "checkVowel = \"aeiou\"\n",
    "\n",
    "def pig(inputWord):\n",
    " for i in range(len(inputWord)):\n",
    "    if inputWord[i].lower() in checkVowel:\n",
    "        return inputWord[i: ] + inputWord[: i] + \"ay\"\n",
    "\n",
    "pig(\"happy\").lower()"
   ]
  },
  {
   "cell_type": "markdown",
   "id": "3f640395",
   "metadata": {},
   "source": [
    "# Question 7"
   ]
  },
  {
   "cell_type": "code",
   "execution_count": 12,
   "id": "92091d1f",
   "metadata": {},
   "outputs": [
    {
     "name": "stdout",
     "output_type": "stream",
     "text": [
      "Number of patients with Bloddtype A :15\n",
      "Number of patients with Bloodtype B: 1\n",
      "Number of patients with Bloodtype AB: 13\n",
      "Number of patients with Bloodtype O: 15\n",
      "Number of patients with Bloodtype OO: 0\n"
     ]
    }
   ],
   "source": [
    "def bldcount(fileName):\n",
    "    counterAB, counterB, counterO, counterA, counterOO = 0,0,0,0,0\n",
    "    f = open(fileName,\"r\")\n",
    "    for line in f:\n",
    "         for word in line.split():\n",
    "            if word == \"AB\":\n",
    "             counterAB += 1\n",
    "            elif word == \"B\":\n",
    "             counterB += 1\n",
    "            elif word == \"O\":\n",
    "             counterO += 1\n",
    "            elif word == \"A\":\n",
    "             counterA += 1\n",
    "            elif word == \"OO\":\n",
    "             counterOO +=1\n",
    "\n",
    "    print(\"Number of patients with Bloddtype A :\" + str(counterA))\n",
    "    print(\"Number of patients with Bloodtype B: \" + str(counterB))\n",
    "    print(\"Number of patients with Bloodtype AB: \" + str(counterAB))\n",
    "    print(\"Number of patients with Bloodtype O: \"+str(counterO))\n",
    "    print(\"Number of patients with Bloodtype OO: \" +str(counterOO))\n",
    "\n",
    "bldcount(\"bloodtype1.txt\")"
   ]
  },
  {
   "cell_type": "markdown",
   "id": "f6a085ba",
   "metadata": {},
   "source": [
    "# Question 8"
   ]
  },
  {
   "cell_type": "code",
   "execution_count": 13,
   "id": "b8c25fee",
   "metadata": {},
   "outputs": [
    {
     "data": {
      "text/plain": [
       "122.96544"
      ]
     },
     "execution_count": 13,
     "metadata": {},
     "output_type": "execute_result"
    }
   ],
   "source": [
    "f = open(\"currencies.txt\",\"r\")\n",
    "currencyList = []\n",
    "\n",
    "for line in f:\n",
    "    currency = line.strip()\n",
    "    currencyList.append(currency)\n",
    "\n",
    "AUD = currencyList[0]\n",
    "CHF = currencyList[1]\n",
    "CNY = currencyList[2]\n",
    "DKK = currencyList[3]\n",
    "EUR = currencyList[4]\n",
    "GBP = currencyList[5]\n",
    "HKD = currencyList[6]\n",
    "INR = currencyList[7]\n",
    "JPY = currencyList[8]\n",
    "MXN = currencyList[9]\n",
    "MYR = currencyList[10]\n",
    "NOK = currencyList[11]\n",
    "NZD = currencyList[12]\n",
    "PHP = currencyList[13]\n",
    "SEK = currencyList[14]\n",
    "SGD = currencyList[15]\n",
    "THB = currencyList[16]\n",
    "\n",
    "def curconv(cur,amount):\n",
    "    if cur == \"AUD\":\n",
    "        return float(AUD.split()[1]) * amount\n",
    "    elif cur == \"CHF\":\n",
    "        return float(CHF.split()[1]) * amount\n",
    "    elif cur == \"CNY\":\n",
    "        return float(CNY.split()[1]) * amount\n",
    "    elif cur == \"DKK\":\n",
    "        return float(DKK.split()[1]) * amount\n",
    "    elif cur == \"EUR\":\n",
    "        return float(EUR.split()[1]) * amount\n",
    "    elif cur == \"GBP\":\n",
    "        return float(GBP.split()[1]) * amount\n",
    "    elif cur == \"HKD\":\n",
    "        return float(HKD.split()[1]) * amount\n",
    "    elif cur == \"INR\":\n",
    "        return float(INR.split()[1]) * amount\n",
    "    elif cur == \"JPY\":\n",
    "        return float(JPY.split()[1]) * amount\n",
    "    elif cur == \"MXN\":\n",
    "        return float(MXN.split()[1]) * amount\n",
    "    elif cur == \"MYR\":\n",
    "        return float(MYR.split()[1]) * amount\n",
    "    elif cur == \"NOK\":\n",
    "        return float(NOK.split()[1]) * amount\n",
    "    elif cur == \"NZD\":\n",
    "        return float(NZD.split()[1]) * amount\n",
    "    elif cur == \"PHP\":\n",
    "        return float(PHP.split()[1]) * amount\n",
    "    elif cur == \"SEK\":\n",
    "        return float(SEK.split()[1]) * amount\n",
    "    elif cur == \"SGD\":\n",
    "        return float(SGD.split()[1]) * amount\n",
    "    elif cur == \"THB\":\n",
    "        return float(THB.split()[1]) * amount\n",
    "\n",
    "curconv(\"EUR\",100)"
   ]
  },
  {
   "cell_type": "markdown",
   "id": "e3d73afd",
   "metadata": {},
   "source": [
    "# Question 9"
   ]
  },
  {
   "cell_type": "code",
   "execution_count": 15,
   "id": "cf03178a",
   "metadata": {},
   "outputs": [
    {
     "ename": "TypeError",
     "evalue": "unsupported operand type(s) for +: 'int' and 'str'",
     "output_type": "error",
     "traceback": [
      "\u001b[1;31m---------------------------------------------------------------------------\u001b[0m",
      "\u001b[1;31mTypeError\u001b[0m                                 Traceback (most recent call last)",
      "\u001b[1;32m<ipython-input-15-20fbf186b8d4>\u001b[0m in \u001b[0;36m<module>\u001b[1;34m\u001b[0m\n\u001b[0;32m      3\u001b[0m \u001b[0mmyList\u001b[0m \u001b[1;33m=\u001b[0m \u001b[1;33m[\u001b[0m\u001b[1;36m1\u001b[0m\u001b[1;33m,\u001b[0m\u001b[1;36m2\u001b[0m\u001b[1;33m,\u001b[0m\u001b[1;36m3\u001b[0m\u001b[1;33m,\u001b[0m\u001b[1;36m4\u001b[0m\u001b[1;33m,\u001b[0m\u001b[1;36m5\u001b[0m\u001b[1;33m,\u001b[0m\u001b[1;36m6\u001b[0m\u001b[1;33m,\u001b[0m\u001b[1;36m7\u001b[0m\u001b[1;33m,\u001b[0m\u001b[1;36m8\u001b[0m\u001b[1;33m,\u001b[0m\u001b[1;36m9\u001b[0m\u001b[1;33m,\u001b[0m\u001b[1;36m10\u001b[0m\u001b[1;33m]\u001b[0m\u001b[1;33m\u001b[0m\u001b[1;33m\u001b[0m\u001b[0m\n\u001b[0;32m      4\u001b[0m \u001b[1;33m\u001b[0m\u001b[0m\n\u001b[1;32m----> 5\u001b[1;33m \u001b[0mprint\u001b[0m \u001b[1;33m(\u001b[0m\u001b[0mx\u001b[0m\u001b[1;33m+\u001b[0m\u001b[1;34m\"z\"\u001b[0m\u001b[1;33m)\u001b[0m\u001b[1;33m\u001b[0m\u001b[1;33m\u001b[0m\u001b[0m\n\u001b[0m\u001b[0;32m      6\u001b[0m \u001b[1;33m\u001b[0m\u001b[0m\n\u001b[0;32m      7\u001b[0m \u001b[0mprint\u001b[0m \u001b[1;33m(\u001b[0m\u001b[0mmyList\u001b[0m\u001b[1;33m[\u001b[0m\u001b[1;36m12\u001b[0m\u001b[1;33m]\u001b[0m\u001b[1;33m)\u001b[0m\u001b[1;33m\u001b[0m\u001b[1;33m\u001b[0m\u001b[0m\n",
      "\u001b[1;31mTypeError\u001b[0m: unsupported operand type(s) for +: 'int' and 'str'"
     ]
    }
   ],
   "source": [
    "import math\n",
    "x=5\n",
    "myList = [1,2,3,4,5,6,7,8,9,10]\n",
    "\n",
    "print (x+\"z\")\n",
    "\n",
    "print (myList[12])\n",
    "\n",
    "print (math.sqrt(-1.0))\n",
    "\n",
    "print(z)\n",
    "\n",
    "f = open(\"fileName.txt\",\"r\")\n",
    "for line in f:\n",
    "    print (line)"
   ]
  },
  {
   "cell_type": "code",
   "execution_count": null,
   "id": "f04d051e",
   "metadata": {},
   "outputs": [],
   "source": []
  }
 ],
 "metadata": {
  "kernelspec": {
   "display_name": ".NET (C#)",
   "language": "C#",
   "name": ".net-csharp"
  },
  "language_info": {
   "file_extension": ".cs",
   "mimetype": "text/x-csharp",
   "name": "C#",
   "pygments_lexer": "csharp",
   "version": "8.0"
  }
 },
 "nbformat": 4,
 "nbformat_minor": 5
}
